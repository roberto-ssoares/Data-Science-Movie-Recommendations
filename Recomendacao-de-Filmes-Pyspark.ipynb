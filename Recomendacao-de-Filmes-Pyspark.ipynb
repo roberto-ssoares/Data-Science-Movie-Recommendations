{
 "cells": [
  {
   "cell_type": "markdown",
   "id": "abdee20a-a2a9-47d2-be5e-114e2c301195",
   "metadata": {},
   "source": [
    "<p style=\"text-align: center;\">\n",
    "  <font face=\"Segoe Script\" size=\"6\" color='#FF5733'>\n",
    "    <strong>Pyspark para Ciência de Dados</strong>\n",
    "  </font>\n",
    "</p>\n",
    "\n",
    "<p style=\"text-align: center;\">\n",
    "<font face=\"Segoe Print\" size=\"7\" color='#900C3F'><strong>Projeto: Recomendações de Filmes - Spark ML</strong></font>\n",
    "</p>\n",
    "\n",
    "<p style=\"text-align: right;\">\n",
    "  <font face=\"Segoe Script\" size=\"4\" color='#444444'>\n",
    "    Roberto Soares \n",
    "  </font>\n",
    "</p>\n",
    "<p style=\"text-align: right;\"><font face=\"Segoe Script\" size=\"2\" color='#444444'>\n",
    "<a href=\"https://www.linkedin.com/in/roberto-soares-full-stack-data-scientist/\">in/roberto-soares-full-stack-data-scientist</a> \n",
    "\n",
    "<p style=\"text-align: right;\"><font face=\"Segoe Script\" size=\"2\" color='#444444'>    \n",
    "<a href=\"https://github.com/roberto-ssoares/roberto-ssoares.github.io\">roberto-ssoares-portifolio</a> \n",
    "\n",
    ">"
   ]
  },
  {
   "cell_type": "markdown",
   "id": "32017cb1-b89e-44e8-8f40-ce7f352a69b2",
   "metadata": {},
   "source": [
    "## <font face=\"Segoe Print\" size=\"4\" color='#334CFF'>Instalando e Carregando Pacotes</font>\n",
    "\n",
    "<td>\n",
    "<font face=\"Segoe Print\" size=\"2\" color='#66666'>\n",
    "    \n",
    "- Para atualizar um pacote, execute o comando abaixo no terminal ou prompt de comando:\n",
    "- pip install -U nome_pacote\n",
    "\n",
    "- Para instalar a versão exata de um pacote, execute o comando abaixo no terminal ou prompt de comando:\n",
    "- !pip install nome_pacote==versão_desejada\n",
    "\n",
    "- Depois de instalar ou atualizar o pacote, reinicie o jupyter notebook.\n",
    "\n",
    "- Instala o pacote watermark.\n",
    "- Esse pacote é usado para gravar as versões de outros pacotes usados neste jupyter notebook.\n",
    "</font>\n",
    "</td>"
   ]
  },
  {
   "cell_type": "code",
   "execution_count": 1,
   "id": "3511b774-387e-45e6-bd47-a5e1ec85f4a3",
   "metadata": {},
   "outputs": [],
   "source": [
    "#!pip install -q -U watermark"
   ]
  },
  {
   "cell_type": "code",
   "execution_count": 2,
   "id": "a58598e4-78c3-4ce2-afcc-570cbb3b3456",
   "metadata": {},
   "outputs": [],
   "source": [
    "!pip install -q -U pyspark"
   ]
  },
  {
   "cell_type": "code",
   "execution_count": 3,
   "id": "b5e7da0f-5388-4658-8850-aadaab846f64",
   "metadata": {},
   "outputs": [],
   "source": [
    "import numpy as np # linear algebra\n",
    "import pandas as pd # data processing, CSV file I/O (e.g. pd.read_csv)\n",
    "import matplotlib.pyplot as plt\n",
    "import seaborn as sns\n",
    "import sklearn\n",
    "import random\n",
    "import os\n",
    "\n",
    "from pyspark.sql import SparkSession \n",
    "from pyspark.ml  import Pipeline     \n",
    "from pyspark.sql import SQLContext  \n",
    "from pyspark.sql.functions import mean,col,split, col, regexp_extract, when, lit\n",
    "from pyspark.ml.feature import StringIndexer, VectorAssembler\n",
    "from pyspark.ml.evaluation import MulticlassClassificationEvaluator\n",
    "from pyspark.ml.feature import QuantileDiscretizer"
   ]
  },
  {
   "cell_type": "code",
   "execution_count": 4,
   "id": "bada441b-ebab-464b-a20f-06807d931436",
   "metadata": {},
   "outputs": [
    {
     "name": "stdout",
     "output_type": "stream",
     "text": [
      "Author: Roberto Soares - in/roberto-soares-full-stack-data-scientist\n",
      "\n"
     ]
    }
   ],
   "source": [
    "# Versões dos pacotes usados neste jupyter notebook\n",
    "%reload_ext watermark\n",
    "%watermark -a \"Roberto Soares - in/roberto-soares-full-stack-data-scientist\" "
   ]
  },
  {
   "cell_type": "markdown",
   "id": "93eade89-083a-4d2d-bf44-54ce779b2505",
   "metadata": {},
   "source": [
    "## <font face=\"Segoe Print\" size=\"4\" color='#334CFF'>Em primeiro lugar, precisamos criar um contêiner Spark chamando SparkSession.</font>\n",
    "\n",
    "<font face=\"Segoe Print\" size=\"3\" color='#66666'>\n",
    "\n",
    "- Esta etapa é necessária antes de fazer qualquer coisa."
   ]
  },
  {
   "cell_type": "code",
   "execution_count": 5,
   "id": "57dfb3d8-5d9b-4419-bc12-6f696177b4b0",
   "metadata": {},
   "outputs": [],
   "source": [
    "# Criar uma SparkSession\n",
    "spark = SparkSession.builder.appName('recomendacao_filme').getOrCreate()"
   ]
  },
  {
   "cell_type": "markdown",
   "id": "a2789410-6eef-46d4-b090-a6f0e714421a",
   "metadata": {},
   "source": [
    "## <font face=\"Segoe Print\" size=\"4\" color='#334CFF'>O método Pyspark.toPandas() nos permite retornar SparkDataFrame como exibição da tabela Pandas.</font>\n",
    "\n",
    "<font face=\"Segoe Print\" size=\"3\" color='#66666'>\n"
   ]
  },
  {
   "cell_type": "code",
   "execution_count": 6,
   "id": "b5acfe72-9ca8-4d8b-81e6-060d4ef641b8",
   "metadata": {},
   "outputs": [],
   "source": [
    "# carrega o dataset e cria dataframe spark\n",
    "df = spark.read.csv('data/movie_ratings_df.csv', inferSchema=True, header=True)"
   ]
  },
  {
   "cell_type": "markdown",
   "id": "5cef9c2d-66d4-4c2e-9137-4557f82e3450",
   "metadata": {},
   "source": [
    "## <font face=\"Segoe Print\" size=\"4\" color='#334CFF'>Usando limit(), ou select() ou show() para visualizar os dados.</font>\n",
    "\n",
    "<font face=\"Segoe Print\" size=\"3\" color='#66666'>\n",
    "    \n",
    "- Usando limit()\n",
    "- Usando o método toPandas() para retornar Pyspark DataFrame como tabela Pandas."
   ]
  },
  {
   "cell_type": "code",
   "execution_count": 7,
   "id": "f0f9c823-173c-4d4f-9b09-8ef2ce9c350d",
   "metadata": {},
   "outputs": [
    {
     "data": {
      "text/html": [
       "<div>\n",
       "<style scoped>\n",
       "    .dataframe tbody tr th:only-of-type {\n",
       "        vertical-align: middle;\n",
       "    }\n",
       "\n",
       "    .dataframe tbody tr th {\n",
       "        vertical-align: top;\n",
       "    }\n",
       "\n",
       "    .dataframe thead th {\n",
       "        text-align: right;\n",
       "    }\n",
       "</style>\n",
       "<table border=\"1\" class=\"dataframe\">\n",
       "  <thead>\n",
       "    <tr style=\"text-align: right;\">\n",
       "      <th></th>\n",
       "      <th>userId</th>\n",
       "      <th>title</th>\n",
       "      <th>rating</th>\n",
       "    </tr>\n",
       "  </thead>\n",
       "  <tbody>\n",
       "    <tr>\n",
       "      <th>0</th>\n",
       "      <td>196</td>\n",
       "      <td>Kolya (1996)</td>\n",
       "      <td>3</td>\n",
       "    </tr>\n",
       "    <tr>\n",
       "      <th>1</th>\n",
       "      <td>63</td>\n",
       "      <td>Kolya (1996)</td>\n",
       "      <td>3</td>\n",
       "    </tr>\n",
       "    <tr>\n",
       "      <th>2</th>\n",
       "      <td>226</td>\n",
       "      <td>Kolya (1996)</td>\n",
       "      <td>5</td>\n",
       "    </tr>\n",
       "    <tr>\n",
       "      <th>3</th>\n",
       "      <td>154</td>\n",
       "      <td>Kolya (1996)</td>\n",
       "      <td>3</td>\n",
       "    </tr>\n",
       "    <tr>\n",
       "      <th>4</th>\n",
       "      <td>306</td>\n",
       "      <td>Kolya (1996)</td>\n",
       "      <td>5</td>\n",
       "    </tr>\n",
       "  </tbody>\n",
       "</table>\n",
       "</div>"
      ],
      "text/plain": [
       "   userId         title  rating\n",
       "0     196  Kolya (1996)       3\n",
       "1      63  Kolya (1996)       3\n",
       "2     226  Kolya (1996)       5\n",
       "3     154  Kolya (1996)       3\n",
       "4     306  Kolya (1996)       5"
      ]
     },
     "execution_count": 7,
     "metadata": {},
     "output_type": "execute_result"
    }
   ],
   "source": [
    "df.limit(5).toPandas()"
   ]
  },
  {
   "cell_type": "markdown",
   "id": "e1ca7d09-e8fd-4500-b440-d320fafd4fef",
   "metadata": {},
   "source": [
    "## <font face=\"Segoe Print\" size=\"4\" color='#334CFF'>Nossa tarefa:</font>\n",
    "\n",
    "<font face=\"Segoe Print\" size=\"3\" color='#66666'>\n",
    "\n",
    "- Dado um usuário, prevemos e retornamos uma lista de recomendações de filmes para aquele usuário assistir.\n",
    "\n",
    "Usamos: printSchema() para uma visão geral rápida do tipo de dados de recursos."
   ]
  },
  {
   "cell_type": "code",
   "execution_count": 8,
   "id": "9afb2118-22d1-4b98-9049-c3910b6b6fa8",
   "metadata": {},
   "outputs": [
    {
     "name": "stdout",
     "output_type": "stream",
     "text": [
      "root\n",
      " |-- userId: integer (nullable = true)\n",
      " |-- title: string (nullable = true)\n",
      " |-- rating: integer (nullable = true)\n",
      "\n"
     ]
    }
   ],
   "source": [
    "df.printSchema()"
   ]
  },
  {
   "cell_type": "markdown",
   "id": "ef47e4bc-4ea2-4c53-8d54-78588bbc3847",
   "metadata": {},
   "source": [
    "## <font face=\"Segoe Print\" size=\"4\" color='#334CFF'>Como podemos ver, a coluna do título é armazenada como tipo string.</font>\n",
    "\n",
    "<font face=\"Segoe Print\" size=\"3\" color='#66666'>\n",
    "\n",
    "- Para trabalhar com a biblioteca pyspark Mlib, precisamos converter o tipo de string em valores numéricos.\n",
    "\n"
   ]
  },
  {
   "cell_type": "code",
   "execution_count": 9,
   "id": "3be4c5c0-866a-4ba6-9271-20665b396560",
   "metadata": {},
   "outputs": [],
   "source": [
    "from pyspark.ml.feature import StringIndexer, IndexToString\n",
    "stringIndexer = StringIndexer(inputCol='title', outputCol='title_new')"
   ]
  },
  {
   "cell_type": "markdown",
   "id": "bba8ee5d-99c2-45e1-b17a-08ebd7699453",
   "metadata": {},
   "source": [
    "<font face=\"Segoe Print\" size=\"3\" color='#66666'>\n",
    "    \n",
    "- Aplicando objeto stringindexer na coluna de título do filme dataframe."
   ]
  },
  {
   "cell_type": "code",
   "execution_count": 10,
   "id": "ca931b01-60fc-48e3-a3e4-82a5d1960f03",
   "metadata": {},
   "outputs": [],
   "source": [
    "model = stringIndexer.fit(df)"
   ]
  },
  {
   "cell_type": "markdown",
   "id": "92dda3ba-f6fd-453a-884d-25ad6cb501f0",
   "metadata": {},
   "source": [
    "<font face=\"Segoe Print\" size=\"3\" color='#66666'>\n",
    "\n",
    "- Criando novo dataframe com valores transformados."
   ]
  },
  {
   "cell_type": "code",
   "execution_count": 11,
   "id": "7c8b5e35-06f8-4cdb-b7e6-1632d8b578ac",
   "metadata": {},
   "outputs": [],
   "source": [
    "indexed = model.transform(df)"
   ]
  },
  {
   "cell_type": "markdown",
   "id": "31ef2a8d-f1b9-4a54-b81d-f721ce9d86cb",
   "metadata": {},
   "source": [
    "<font face=\"Segoe Print\" size=\"3\" color='#66666'>\n",
    "\n",
    "- Validar os valores numéricos do título"
   ]
  },
  {
   "cell_type": "code",
   "execution_count": 12,
   "id": "45a6ba23-0160-48a9-be76-964352bb77f7",
   "metadata": {},
   "outputs": [
    {
     "data": {
      "text/html": [
       "<div>\n",
       "<style scoped>\n",
       "    .dataframe tbody tr th:only-of-type {\n",
       "        vertical-align: middle;\n",
       "    }\n",
       "\n",
       "    .dataframe tbody tr th {\n",
       "        vertical-align: top;\n",
       "    }\n",
       "\n",
       "    .dataframe thead th {\n",
       "        text-align: right;\n",
       "    }\n",
       "</style>\n",
       "<table border=\"1\" class=\"dataframe\">\n",
       "  <thead>\n",
       "    <tr style=\"text-align: right;\">\n",
       "      <th></th>\n",
       "      <th>userId</th>\n",
       "      <th>title</th>\n",
       "      <th>rating</th>\n",
       "      <th>title_new</th>\n",
       "    </tr>\n",
       "  </thead>\n",
       "  <tbody>\n",
       "    <tr>\n",
       "      <th>0</th>\n",
       "      <td>196</td>\n",
       "      <td>Kolya (1996)</td>\n",
       "      <td>3</td>\n",
       "      <td>287.0</td>\n",
       "    </tr>\n",
       "    <tr>\n",
       "      <th>1</th>\n",
       "      <td>63</td>\n",
       "      <td>Kolya (1996)</td>\n",
       "      <td>3</td>\n",
       "      <td>287.0</td>\n",
       "    </tr>\n",
       "    <tr>\n",
       "      <th>2</th>\n",
       "      <td>226</td>\n",
       "      <td>Kolya (1996)</td>\n",
       "      <td>5</td>\n",
       "      <td>287.0</td>\n",
       "    </tr>\n",
       "    <tr>\n",
       "      <th>3</th>\n",
       "      <td>154</td>\n",
       "      <td>Kolya (1996)</td>\n",
       "      <td>3</td>\n",
       "      <td>287.0</td>\n",
       "    </tr>\n",
       "    <tr>\n",
       "      <th>4</th>\n",
       "      <td>306</td>\n",
       "      <td>Kolya (1996)</td>\n",
       "      <td>5</td>\n",
       "      <td>287.0</td>\n",
       "    </tr>\n",
       "  </tbody>\n",
       "</table>\n",
       "</div>"
      ],
      "text/plain": [
       "   userId         title  rating  title_new\n",
       "0     196  Kolya (1996)       3      287.0\n",
       "1      63  Kolya (1996)       3      287.0\n",
       "2     226  Kolya (1996)       5      287.0\n",
       "3     154  Kolya (1996)       3      287.0\n",
       "4     306  Kolya (1996)       5      287.0"
      ]
     },
     "execution_count": 12,
     "metadata": {},
     "output_type": "execute_result"
    }
   ],
   "source": [
    "indexed.limit(5).toPandas()"
   ]
  },
  {
   "cell_type": "markdown",
   "id": "d6e0fa61-847b-4c2e-9194-128900b8653f",
   "metadata": {},
   "source": [
    "## <font face=\"Segoe Print\" size=\"4\" color='#334CFF'>Usamos o algoritmo Alternating Least Squares (ALS) na biblioteca Pyspark Ml para recomendação.</font>\n",
    "\n",
    "<font face=\"Segoe Print\" size=\"3\" color='#66666'>\n",
    "    \n",
    "Para ler mais, você pode visitar https://spark.apache.org/docs/2.2.0/ml-collaborative-filtering.htmlark em um ambiente Python."
   ]
  },
  {
   "cell_type": "markdown",
   "id": "705e38c7-865b-40b2-8e7d-553be6bb246c",
   "metadata": {},
   "source": [
    "<font face=\"Segoe Print\" size=\"2\" color='#7D83B2'>\n",
    "    \n",
    "Introdução ao ALS:\n",
    "\n",
    "- O ALS é um algoritmo de filtragem colaborativa amplamente usado em sistemas de recomendação.\n",
    "- Ele aborda o problema de recomendação tratando a matriz de utilidade (usuários x itens) como uma matriz esparsa e tenta preencher os valores desconhecidos.\n",
    "\n",
    "Funcionamento do ALS:\n",
    "\n",
    "- O algoritmo tenta minimizar a diferença entre os valores reais e os valores previstos, usando mínimos quadrados alternados.\n",
    "- Alterna entre otimizar as representações latentes dos usuários e dos itens até convergir para uma solução.\n",
    "\n",
    "Pontos Positivos do ALS:\n",
    "\n",
    "- Escalabilidade: Pode lidar eficientemente com grandes conjuntos de dados distribuídos.\n",
    "- Boa performance: O ALS é eficaz em sistemas de recomendação, mesmo com conjuntos de dados muito grandes.\n",
    "- Pode lidar com dados esparsos: Funciona bem mesmo quando a matriz de utilidade é esparsa, ou seja, muitos valores são desconhecidos.\n",
    "\n",
    "Pontos Negativos do ALS:\n",
    "\n",
    "- Sensibilidade aos hiperparâmetros: Os resultados do ALS podem variar significativamente com diferentes configurações de hiperparâmetros, como o número de fatores latentes.\n",
    "- Necessidade de ajuste fino: Em algumas situações, pode ser necessário ajustar cuidadosamente os parâmetros para obter os melhores resultados.\n",
    "\n",
    "Por que usar Pyspark para rodar algoritmos:\n",
    "\n",
    "- Processamento distribuído: Pyspark permite distribuir o processamento de dados em um cluster, o que é essencial para lidar com grandes volumes de dados.\n",
    "- Integração com Spark: Pyspark é uma biblioteca Python para Spark, que é amplamente adotado em ambientes de Big Data devido à sua velocidade e capacidade de escala.\n",
    "- Suporte a algoritmos ML: Pyspark ML fornece uma ampla gama de algoritmos de aprendizado de máquina e ferramentas para trabalhar com dados distribuídos de forma eficiente.\n",
    "- Facilidade de uso: Pyspark oferece uma interface Python familiar para trabalhar com Spark, facilitando o desenvolvimento e a depuração de código.\n",
    "\n",
    "Conclusão:\n",
    "\n",
    "- O ALS é um algoritmo eficaz para recomendação, especialmente em grandes conjuntos de dados esparsos.\n",
    "- Ao usar Pyspark ML para implementar o ALS, você pode aproveitar a escalabilidade e o desempenho do Spark em um ambiente Python.\n",
    "\n",
    "- https://github.com/apache/spark/tree/master/examples/src/main/python"
   ]
  },
  {
   "cell_type": "markdown",
   "id": "718541b6-879a-410b-93c0-363b98b16600",
   "metadata": {},
   "source": [
    "<font face=\"Segoe Print\" size=\"3\" color='#66666'>\n",
    "\n",
    "- Dividir os dados em conjunto de dados de treinamento e teste."
   ]
  },
  {
   "cell_type": "code",
   "execution_count": 13,
   "id": "d4d16e85-c446-485f-b820-88b8b0d4a72d",
   "metadata": {},
   "outputs": [],
   "source": [
    "train, test = indexed.randomSplit([0.75,0.25])"
   ]
  },
  {
   "cell_type": "markdown",
   "id": "7f09dce3-52f4-4bb4-902c-a9c81bbfe373",
   "metadata": {},
   "source": [
    "<font face=\"Segoe Print\" size=\"3\" color='#66666'>\n",
    "\n",
    "- Treinando o modelo de recomendação usando dados de treinamento.melhores resultados possíveis."
   ]
  },
  {
   "cell_type": "code",
   "execution_count": 14,
   "id": "f0713cd0-8a2b-4655-802b-d90849cd93ab",
   "metadata": {},
   "outputs": [],
   "source": [
    "from pyspark.ml.recommendation import ALS\n",
    "\n",
    "rec=ALS( maxIter=10\n",
    "        ,regParam=0.01\n",
    "        ,userCol='userId'\n",
    "        ,itemCol='title_new'\n",
    "        ,ratingCol='rating'\n",
    "        ,nonnegative=True\n",
    "        ,coldStartStrategy=\"drop\")"
   ]
  },
  {
   "cell_type": "markdown",
   "id": "614f1171-ffbf-4ba2-9350-80bf73c28fbb",
   "metadata": {},
   "source": [
    "<td>\n",
    "<font face=\"Segoe Print\" size=\"2\" color='#7D83B2'>\n",
    "    \n",
    "Descrição e explicação de cada parâmetro do algoritmo ALS em Pyspark:\n",
    "\n",
    "- **maxIter:**\n",
    "    - Descrição: Número máximo de iterações (passos) que o algoritmo ALS executará.\n",
    "    - Explicação: Quanto maior o número de iterações, mais oportunidades o algoritmo tem para convergir para uma solução.\n",
    "- **regParam:**\n",
    "    - Descrição: Parâmetro de regularização que controla a penalidade adicionada aos termos do modelo para evitar overfitting.\n",
    "    - Explicação: Um valor maior de regParam aumentará a penalidade, o que pode ajudar a evitar overfitting, mas muito alto pode prejudicar a capacidade do modelo de ajustar os dados de treinamento.\n",
    "- **userCol:**\n",
    "    - Descrição: Nome da coluna no DataFrame de entrada que contém IDs de usuário.\n",
    "    - Explicação: Esta é a coluna que contém a identificação única de cada usuário para quem o sistema de recomendação fornecerá recomendações.\n",
    "- **itemCol:**\n",
    "    - Descrição: Nome da coluna no DataFrame de entrada que contém IDs de itens (ou seja, produtos, filmes, etc.).\n",
    "    - Explicação: Esta é a coluna que contém a identificação única de cada item que pode ser recomendado aos usuários.\n",
    "- **ratingCol:**\n",
    "    - Descrição: Nome da coluna no DataFrame de entrada que contém as classificações dadas pelos usuários aos itens.\n",
    "    - Explicação: Esta é a coluna que contém as avaliações que os usuários deram aos itens, as quais o algoritmo tentará prever.\n",
    "- **nonnegative:**\n",
    "    - Descrição: Booleano que indica se os fatores latentes gerados pelo ALS devem ser restritos a valores não negativos.\n",
    "    - Explicação: Definir isso como True garante que os fatores latentes não sejam negativos, o que pode ser útil em certos cenários de aplicação.\n",
    "- **coldStartStrategy:**\n",
    "    - Descrição: Estratégia usada para lidar com novos usuários ou itens durante o processo de recomendação.\n",
    "    - Explicação: \"drop\" significa que o algoritmo ALS irá descartar quaisquer linhas no conjunto de dados de entrada que contenham novos usuários ou itens que não estavam presentes durante o treinamento.\n",
    "        - Existem outras estratégias como \"nan\" ou \"drop\" que podem ser úteis dependendo do contexto.\n",
    "\n",
    "Esses parâmetros são ajustados de acordo com a natureza dos dados e os requisitos do sistema de recomendação para obter os melhores resultados possíveis.\n",
    "\n",
    "- https://spark.apache.org/docs/2.2.0/api/python/pyspark.ml.html#pyspark.ml.recommendation.ALS\n",
    "\n",
    "</font>\n",
    "</td>"
   ]
  },
  {
   "cell_type": "markdown",
   "id": "82f5e66d-dc81-4869-aab7-f21712c9c982",
   "metadata": {},
   "source": [
    "<font face=\"Segoe Print\" size=\"3\" color='#66666'>\n",
    "\n",
    "- Ajuste o modelo nos dados de treinamento."
   ]
  },
  {
   "cell_type": "code",
   "execution_count": 15,
   "id": "6e918285-025f-47ef-b5b5-691d6ffb91fd",
   "metadata": {},
   "outputs": [],
   "source": [
    "rec_model=rec.fit(train)"
   ]
  },
  {
   "cell_type": "markdown",
   "id": "fe5e2f4b-e948-460c-b80f-09bad08e3890",
   "metadata": {},
   "source": [
    "<font face=\"Segoe Print\" size=\"3\" color='#66666'>\n",
    "\n",
    "- Fazendo previsões no conjunto de teste."
   ]
  },
  {
   "cell_type": "code",
   "execution_count": 16,
   "id": "aad13107-7f63-4e55-91b8-ae27aee04114",
   "metadata": {},
   "outputs": [
    {
     "data": {
      "text/html": [
       "<div>\n",
       "<style scoped>\n",
       "    .dataframe tbody tr th:only-of-type {\n",
       "        vertical-align: middle;\n",
       "    }\n",
       "\n",
       "    .dataframe tbody tr th {\n",
       "        vertical-align: top;\n",
       "    }\n",
       "\n",
       "    .dataframe thead th {\n",
       "        text-align: right;\n",
       "    }\n",
       "</style>\n",
       "<table border=\"1\" class=\"dataframe\">\n",
       "  <thead>\n",
       "    <tr style=\"text-align: right;\">\n",
       "      <th></th>\n",
       "      <th>userId</th>\n",
       "      <th>title</th>\n",
       "      <th>rating</th>\n",
       "      <th>title_new</th>\n",
       "      <th>prediction</th>\n",
       "    </tr>\n",
       "  </thead>\n",
       "  <tbody>\n",
       "    <tr>\n",
       "      <th>0</th>\n",
       "      <td>833</td>\n",
       "      <td>Heavenly Creatures (1994)</td>\n",
       "      <td>4</td>\n",
       "      <td>463.0</td>\n",
       "      <td>3.409583</td>\n",
       "    </tr>\n",
       "    <tr>\n",
       "      <th>1</th>\n",
       "      <td>137</td>\n",
       "      <td>Kull the Conqueror (1997)</td>\n",
       "      <td>5</td>\n",
       "      <td>471.0</td>\n",
       "      <td>4.708867</td>\n",
       "    </tr>\n",
       "    <tr>\n",
       "      <th>2</th>\n",
       "      <td>451</td>\n",
       "      <td>Kull the Conqueror (1997)</td>\n",
       "      <td>1</td>\n",
       "      <td>471.0</td>\n",
       "      <td>3.222012</td>\n",
       "    </tr>\n",
       "    <tr>\n",
       "      <th>3</th>\n",
       "      <td>451</td>\n",
       "      <td>Kull the Conqueror (1997)</td>\n",
       "      <td>2</td>\n",
       "      <td>471.0</td>\n",
       "      <td>3.222012</td>\n",
       "    </tr>\n",
       "    <tr>\n",
       "      <th>4</th>\n",
       "      <td>296</td>\n",
       "      <td>Much Ado About Nothing (1993)</td>\n",
       "      <td>5</td>\n",
       "      <td>148.0</td>\n",
       "      <td>4.607786</td>\n",
       "    </tr>\n",
       "  </tbody>\n",
       "</table>\n",
       "</div>"
      ],
      "text/plain": [
       "   userId                          title  rating  title_new  prediction\n",
       "0     833      Heavenly Creatures (1994)       4      463.0    3.409583\n",
       "1     137      Kull the Conqueror (1997)       5      471.0    4.708867\n",
       "2     451      Kull the Conqueror (1997)       1      471.0    3.222012\n",
       "3     451      Kull the Conqueror (1997)       2      471.0    3.222012\n",
       "4     296  Much Ado About Nothing (1993)       5      148.0    4.607786"
      ]
     },
     "execution_count": 16,
     "metadata": {},
     "output_type": "execute_result"
    }
   ],
   "source": [
    "predicted_ratings=rec_model.transform(test)\n",
    "\n",
    "predicted_ratings.limit(5).toPandas()"
   ]
  },
  {
   "cell_type": "markdown",
   "id": "9aa68e5f-4e91-450d-8191-c5ec77c23a0c",
   "metadata": {},
   "source": [
    "## <font face=\"Segoe Print\" size=\"4\" color='#334CFF'>Avalie o treinamento.</font>\n",
    "\n",
    "<font face=\"Segoe Print\" size=\"3\" color='#66666'>\n"
   ]
  },
  {
   "cell_type": "markdown",
   "id": "c118ad1c-cb59-4115-8468-43cecc69158d",
   "metadata": {},
   "source": [
    "<font face=\"Segoe Print\" size=\"3\" color='#66666'>\n",
    "    \n",
    "- Importando Regression Evaluator para medir RMSE"
   ]
  },
  {
   "cell_type": "code",
   "execution_count": 17,
   "id": "d6268d31-8f41-4142-b4d8-54ec4da0608b",
   "metadata": {},
   "outputs": [],
   "source": [
    "from pyspark.ml.evaluation import RegressionEvaluator"
   ]
  },
  {
   "cell_type": "markdown",
   "id": "4aee88bb-51e6-4e17-8b57-102bad92de1e",
   "metadata": {},
   "source": [
    "<font face=\"Segoe Print\" size=\"3\" color='#66666'>\n",
    "\n",
    "- Criando um objeto avaliador Regressor para medir a acurácia"
   ]
  },
  {
   "cell_type": "code",
   "execution_count": 18,
   "id": "12ad7994-86c4-4955-b310-9c1320bbd519",
   "metadata": {},
   "outputs": [],
   "source": [
    "evaluator=RegressionEvaluator(metricName='rmse',predictionCol='prediction',labelCol='rating')"
   ]
  },
  {
   "cell_type": "markdown",
   "id": "a3eed184-28e7-41d5-9a73-9142e695a808",
   "metadata": {},
   "source": [
    "<font face=\"Segoe Print\" size=\"3\" color='#66666'>\n",
    "\n",
    "- Aplicando o RE no dataframe de previsões para calcular RMSE"
   ]
  },
  {
   "cell_type": "code",
   "execution_count": 19,
   "id": "824afdf0-5efc-4838-8128-b4d6505e27f5",
   "metadata": {},
   "outputs": [],
   "source": [
    "rmse=evaluator.evaluate(predicted_ratings)"
   ]
  },
  {
   "cell_type": "markdown",
   "id": "15a7cd8b-ed59-408f-b478-d6b88ca1af4b",
   "metadata": {},
   "source": [
    "<font face=\"Segoe Print\" size=\"3\" color='#66666'>\n",
    "\n",
    "- Imprimir o erro RMSE"
   ]
  },
  {
   "cell_type": "code",
   "execution_count": 20,
   "id": "83b7b6d3-015a-4319-b3c9-3c81f6259b59",
   "metadata": {},
   "outputs": [
    {
     "name": "stdout",
     "output_type": "stream",
     "text": [
      "1.0230161577440855\n"
     ]
    }
   ],
   "source": [
    "print(rmse)"
   ]
  },
  {
   "cell_type": "markdown",
   "id": "0853c44f-bbd8-4945-841e-efdcd59bbf67",
   "metadata": {},
   "source": [
    "## <font face=\"Segoe Print\" size=\"4\" color='#334CFF'>Após o treinamento, agora é a hora de recomendar os melhores filmes que o usuário possa gostar.</font>\n",
    "\n",
    "<font face=\"Segoe Print\" size=\"3\" color='#66666'>\n"
   ]
  },
  {
   "cell_type": "markdown",
   "id": "5cb02567-019d-49b7-ae09-4bf86050d74a",
   "metadata": {},
   "source": [
    "<font face=\"Segoe Print\" size=\"3\" color='#66666'>\n",
    "\n",
    "- Primeiro precisamos criar um um conjunto de dados de todos os filmes distintos."
   ]
  },
  {
   "cell_type": "code",
   "execution_count": 21,
   "id": "41a4587d-cada-482d-9c6b-5fb4f67beddf",
   "metadata": {},
   "outputs": [],
   "source": [
    "unique_movies=indexed.select('title_new').distinct()"
   ]
  },
  {
   "cell_type": "markdown",
   "id": "3efb6618-02e1-4b73-b09b-6f3a38f325a2",
   "metadata": {},
   "source": [
    "<font face=\"Segoe Print\" size=\"3\" color='#66666'>\n",
    "\n",
    "- Criar uma função para recomendar os melhores filmes para qualquer usuário específico."
   ]
  },
  {
   "cell_type": "code",
   "execution_count": 22,
   "id": "761e41be-e38b-4df0-9d3c-6a747d2aa606",
   "metadata": {},
   "outputs": [],
   "source": [
    "def top_movies(user_id,n):\n",
    "    \"\"\"\n",
    "    Esta função retorna os principais filmes que o usuário ainda não viu, mas que pode gostar.\n",
    "    \n",
    "    \"\"\"\n",
    "    # Atribuindo o nome alternativo 'a' aos filmes do dataframe.\n",
    "    a = unique_movies.alias('a')\n",
    "    \n",
    "    # Criando outro dataframe que contém filmes já assistidos pelo usuário.\n",
    "    watched_movies=indexed.filter(indexed['userId'] == user_id).select('title_new')\n",
    "    \n",
    "    # Atribuindo o nome alternativo 'b' aos filmes assistidos do dataframe.\n",
    "    b=watched_movies.alias('b')\n",
    "    \n",
    "    # Juntando as duas tabelas na junção pela esquerda\n",
    "    total_movies = a.join(b, a.title_new == b.title_new,how='left')\n",
    "    \n",
    "    # Selecionando filmes que o usuário ativo ainda não avaliou ou assistiu.\n",
    "    remaining_movies=total_movies.where(col(\"b.title_new\").isNull()).select(a.title_new).distinct()\n",
    "    \n",
    "    # Adicionando nova coluna de user_id do usuário ativo aos filmes restantes do dataframe.\n",
    "    remaining_movies=remaining_movies.withColumn(\"userId\",lit(int(user_id)))\n",
    "    \n",
    "    # Fazendo recomentações usando o modelo de recomendações ALS e selecionando apenas aos principais filmes.\n",
    "    recommendations=rec_model.transform(remaining_movies).orderBy('prediction',ascending=False).limit(n)\n",
    "    \n",
    "    # Adicionando colunas de títulos de filmes nas recomendações.\n",
    "    movie_title = IndexToString(inputCol=\"title_new\", outputCol=\"title\",labels=model.labels)\n",
    "    final_recommendations=movie_title.transform(recommendations)\n",
    "    \n",
    "    # Retornar as recomendações ao usuário.\n",
    "    return final_recommendations.show(n,False)"
   ]
  },
  {
   "cell_type": "markdown",
   "id": "ab09dcbd-fc3d-49d4-8275-536e23dc2558",
   "metadata": {},
   "source": [
    "<font face=\"Segoe Print\" size=\"3\" color='#66666'>\n",
    "\n",
    "- Filmes assistindos por usuário de Id=60"
   ]
  },
  {
   "cell_type": "code",
   "execution_count": 23,
   "id": "f76c11c0-d9de-49dc-bf89-498f376a653f",
   "metadata": {},
   "outputs": [
    {
     "name": "stdout",
     "output_type": "stream",
     "text": [
      "+------+--------------------+------+---------+\n",
      "|userId|               title|rating|title_new|\n",
      "+------+--------------------+------+---------+\n",
      "|    60|      Alien 3 (1992)|     4|    334.0|\n",
      "|    60|         Babe (1995)|     3|     96.0|\n",
      "|    60|Belle de jour (1967)|     5|    732.0|\n",
      "|    60|   Birds, The (1963)|     4|    180.0|\n",
      "|    60| Blade Runner (1982)|     5|     52.0|\n",
      "+------+--------------------+------+---------+\n",
      "only showing top 5 rows\n",
      "\n"
     ]
    }
   ],
   "source": [
    "test.filter(test.userId == 60).show(5)"
   ]
  },
  {
   "cell_type": "markdown",
   "id": "cad014dc-4f1c-49c6-99c7-259dcd7bc4c7",
   "metadata": {},
   "source": [
    "<font face=\"Segoe Print\" size=\"3\" color='#66666'>\n",
    "\n",
    "- Testando - Recomende 5 filmes para usuário de id=60."
   ]
  },
  {
   "cell_type": "code",
   "execution_count": 24,
   "id": "00516ba8-6fb2-4d4e-afa0-468c589017e9",
   "metadata": {},
   "outputs": [
    {
     "name": "stdout",
     "output_type": "stream",
     "text": [
      "+---------+------+----------+------------------------------------------------------------------+\n",
      "|title_new|userId|prediction|title                                                             |\n",
      "+---------+------+----------+------------------------------------------------------------------+\n",
      "|1517.0   |60    |6.2218757 |Slingshot, The (1993)                                             |\n",
      "|1288.0   |60    |5.866636  |Whole Wide World, The (1996)                                      |\n",
      "|1207.0   |60    |5.700029  |Aparajito (1956)                                                  |\n",
      "|1103.0   |60    |5.6819525 |Stalker (1979)                                                    |\n",
      "|892.0    |60    |5.5139546 |Double vie de V�ronique, La (Double Life of Veronique, The) (1991)|\n",
      "+---------+------+----------+------------------------------------------------------------------+\n",
      "\n"
     ]
    }
   ],
   "source": [
    "top_movies(60,5)"
   ]
  },
  {
   "cell_type": "markdown",
   "id": "d190defa-fc17-42da-ad4e-a0198836f7b9",
   "metadata": {},
   "source": [
    "<font face=\"Segoe Print\" size=\"3\" color='#66666'>\n",
    "\n",
    "- Filmes assistindos por usuário de Id=9999"
   ]
  },
  {
   "cell_type": "code",
   "execution_count": 25,
   "id": "a3b57991-386a-4169-9dd0-8273841d8d03",
   "metadata": {},
   "outputs": [
    {
     "name": "stdout",
     "output_type": "stream",
     "text": [
      "+------+-----+------+---------+\n",
      "|userId|title|rating|title_new|\n",
      "+------+-----+------+---------+\n",
      "+------+-----+------+---------+\n",
      "\n"
     ]
    }
   ],
   "source": [
    "test.filter(test.userId == 9999).show()"
   ]
  },
  {
   "cell_type": "markdown",
   "id": "9cc4be6a-a27e-4adf-9a42-6acb273d37f7",
   "metadata": {},
   "source": [
    "<font face=\"Segoe Print\" size=\"3\" color='#66666'>\n",
    " \n",
    "- Testando - Recomende 5 filmes para usuário de id=9999."
   ]
  },
  {
   "cell_type": "code",
   "execution_count": 26,
   "id": "3ea99c68-8a4d-4995-baaf-4f6288191d0d",
   "metadata": {},
   "outputs": [
    {
     "name": "stdout",
     "output_type": "stream",
     "text": [
      "+---------+------+----------+---------------------------------------+\n",
      "|title_new|userId|prediction|title                                  |\n",
      "+---------+------+----------+---------------------------------------+\n",
      "|1057.0   |9999  |5.471543  |Safe (1995)                            |\n",
      "|1277.0   |9999  |5.3113337 |Mina Tannenbaum (1994)                 |\n",
      "|1198.0   |9999  |5.2031913 |Pather Panchali (1955)                 |\n",
      "|691.0    |9999  |5.1957664 |Some Folks Call It a Sling Blade (1993)|\n",
      "|107.0    |9999  |4.92759   |Godfather: Part II, The (1974)         |\n",
      "+---------+------+----------+---------------------------------------+\n",
      "\n"
     ]
    }
   ],
   "source": [
    "top_movies(9999,5)"
   ]
  },
  {
   "cell_type": "code",
   "execution_count": 27,
   "id": "4ab3481a-aa3c-4762-9b68-02a7364f0115",
   "metadata": {},
   "outputs": [
    {
     "name": "stdout",
     "output_type": "stream",
     "text": [
      "+--------------------------------------+\n",
      "|title                                 |\n",
      "+--------------------------------------+\n",
      "|Annie Hall (1977)                     |\n",
      "|Heavenly Creatures (1994)             |\n",
      "|Psycho (1960)                         |\n",
      "|Snow White and the Seven Dwarfs (1937)|\n",
      "|Night of the Living Dead (1968)       |\n",
      "|When We Were Kings (1996)             |\n",
      "|If Lucy Fell (1996)                   |\n",
      "|Fair Game (1995)                      |\n",
      "|Three Wishes (1995)                   |\n",
      "|Cosi (1996)                           |\n",
      "|Paris, France (1993)                  |\n",
      "|Spanking the Monkey (1994)            |\n",
      "|I'll Do Anything (1994)               |\n",
      "|Mondo (1996)                          |\n",
      "|Evil Dead II (1987)                   |\n",
      "|Threesome (1994)                      |\n",
      "|Last Action Hero (1993)               |\n",
      "|Reality Bites (1994)                  |\n",
      "|Colonel Chabert, Le (1994)            |\n",
      "|Blue Chips (1994)                     |\n",
      "+--------------------------------------+\n",
      "only showing top 20 rows\n",
      "\n"
     ]
    }
   ],
   "source": [
    "indexed.select('title').distinct().show(truncate=False)"
   ]
  },
  {
   "cell_type": "markdown",
   "id": "310d7679-b4fc-4d35-85f6-a4cc31e47b7c",
   "metadata": {},
   "source": [
    "<font face=\"Segoe Print\" size=\"3\" color='#66666'>    \n",
    "\n",
    "- https://spark.apache.org/docs/latest/api/python/user_guide/pandas_on_spark/options.html"
   ]
  },
  {
   "cell_type": "code",
   "execution_count": 28,
   "id": "04565909-cf61-45e2-a4a4-e0d76fb9b13f",
   "metadata": {},
   "outputs": [
    {
     "data": {
      "text/html": [
       "<div>\n",
       "<style scoped>\n",
       "    .dataframe tbody tr th:only-of-type {\n",
       "        vertical-align: middle;\n",
       "    }\n",
       "\n",
       "    .dataframe tbody tr th {\n",
       "        vertical-align: top;\n",
       "    }\n",
       "\n",
       "    .dataframe thead th {\n",
       "        text-align: right;\n",
       "    }\n",
       "</style>\n",
       "<table border=\"1\" class=\"dataframe\">\n",
       "  <thead>\n",
       "    <tr style=\"text-align: right;\">\n",
       "      <th></th>\n",
       "      <th>userId</th>\n",
       "      <th>title</th>\n",
       "      <th>rating</th>\n",
       "      <th>title_new</th>\n",
       "    </tr>\n",
       "  </thead>\n",
       "  <tbody>\n",
       "    <tr>\n",
       "      <th>0</th>\n",
       "      <td>196</td>\n",
       "      <td>Kolya (1996)</td>\n",
       "      <td>3</td>\n",
       "      <td>287.0</td>\n",
       "    </tr>\n",
       "    <tr>\n",
       "      <th>1</th>\n",
       "      <td>63</td>\n",
       "      <td>Kolya (1996)</td>\n",
       "      <td>3</td>\n",
       "      <td>287.0</td>\n",
       "    </tr>\n",
       "    <tr>\n",
       "      <th>2</th>\n",
       "      <td>226</td>\n",
       "      <td>Kolya (1996)</td>\n",
       "      <td>5</td>\n",
       "      <td>287.0</td>\n",
       "    </tr>\n",
       "  </tbody>\n",
       "</table>\n",
       "</div>"
      ],
      "text/plain": [
       "   userId         title  rating  title_new\n",
       "0     196  Kolya (1996)       3      287.0\n",
       "1      63  Kolya (1996)       3      287.0\n",
       "2     226  Kolya (1996)       5      287.0"
      ]
     },
     "execution_count": 28,
     "metadata": {},
     "output_type": "execute_result"
    }
   ],
   "source": [
    "# Salve o DataFrame em um arquivo CSV\n",
    "indexed.limit(3).toPandas()"
   ]
  },
  {
   "cell_type": "markdown",
   "id": "b94dd2e7-dab0-4807-8a82-c603436e4fca",
   "metadata": {},
   "source": [
    "<font face=\"Segoe Print\" size=\"3\" color='#66666'>\n",
    "\n",
    "- Convertendo o DataFrame Spark para um DataFrame Pandas"
   ]
  },
  {
   "cell_type": "code",
   "execution_count": 29,
   "id": "9c477423-6d49-4ee4-ba1f-e8f991b57f67",
   "metadata": {},
   "outputs": [],
   "source": [
    "pandas_df = indexed.select('title').distinct().toPandas()"
   ]
  },
  {
   "cell_type": "markdown",
   "id": "3a1cc37b-b020-4df0-a88a-f84440213390",
   "metadata": {},
   "source": [
    "<font face=\"Segoe Print\" size=\"3\" color='#66666'>\n",
    "\n",
    "- Salvando os valores distintos da coluna 'title' em um arquivo CSV usando o Pandas"
   ]
  },
  {
   "cell_type": "code",
   "execution_count": 30,
   "id": "27c4bb31-3881-4f36-8143-a3c53e44f3e0",
   "metadata": {},
   "outputs": [],
   "source": [
    "pandas_df.to_csv(\"data/lista_de_filmes.csv\", index=False, )"
   ]
  },
  {
   "cell_type": "code",
   "execution_count": 31,
   "id": "da922ae5-de57-439a-ba3b-56f4c0935781",
   "metadata": {},
   "outputs": [
    {
     "name": "stdout",
     "output_type": "stream",
     "text": [
      "Author: Data Science Academy\n",
      "\n"
     ]
    }
   ],
   "source": [
    "%reload_ext watermark\n",
    "%watermark -a \"Roberto Soares - in/roberto-soares-full-stack-data-scientist\""
   ]
  },
  {
   "cell_type": "code",
   "execution_count": 32,
   "id": "7632367a-f586-4422-8a93-624597059322",
   "metadata": {},
   "outputs": [
    {
     "name": "stdout",
     "output_type": "stream",
     "text": [
      "Python implementation: CPython\n",
      "Python version       : 3.11.5\n",
      "IPython version      : 8.20.0\n",
      "\n",
      "Compiler    : MSC v.1916 64 bit (AMD64)\n",
      "OS          : Windows\n",
      "Release     : 10\n",
      "Machine     : AMD64\n",
      "Processor   : Intel64 Family 6 Model 158 Stepping 9, GenuineIntel\n",
      "CPU cores   : 4\n",
      "Architecture: 64bit\n",
      "\n"
     ]
    }
   ],
   "source": [
    "%watermark -v -m"
   ]
  },
  {
   "cell_type": "code",
   "execution_count": 33,
   "id": "43cdf526-4ef4-4162-85a6-66f496c340b2",
   "metadata": {},
   "outputs": [
    {
     "name": "stdout",
     "output_type": "stream",
     "text": [
      "matplotlib: 3.8.0\n",
      "seaborn   : 0.12.2\n",
      "sklearn   : 1.2.2\n",
      "pandas    : 2.1.4\n",
      "numpy     : 1.26.3\n",
      "\n"
     ]
    }
   ],
   "source": [
    "%watermark --iversions"
   ]
  },
  {
   "cell_type": "markdown",
   "id": "6f8c06d3-37cf-4e66-a7aa-5f5d2c5b06c7",
   "metadata": {},
   "source": [
    "<font face=\"Segoe Print\" size=\"5\" color='#66666'>\n",
    "\n",
    "Fim "
   ]
  },
  {
   "cell_type": "code",
   "execution_count": null,
   "id": "2b216d68-dd85-4244-8777-766db4683c44",
   "metadata": {},
   "outputs": [],
   "source": []
  }
 ],
 "metadata": {
  "kernelspec": {
   "display_name": "Python 3 (ipykernel)",
   "language": "python",
   "name": "python3"
  },
  "language_info": {
   "codemirror_mode": {
    "name": "ipython",
    "version": 3
   },
   "file_extension": ".py",
   "mimetype": "text/x-python",
   "name": "python",
   "nbconvert_exporter": "python",
   "pygments_lexer": "ipython3",
   "version": "3.11.5"
  }
 },
 "nbformat": 4,
 "nbformat_minor": 5
}
